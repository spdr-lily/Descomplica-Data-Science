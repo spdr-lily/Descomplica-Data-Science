{
  "nbformat": 4,
  "nbformat_minor": 0,
  "metadata": {
    "colab": {
      "provenance": [],
      "authorship_tag": "ABX9TyNDSO9UHRZC6WA8zQ9k93j/",
      "include_colab_link": true
    },
    "kernelspec": {
      "name": "python3",
      "display_name": "Python 3"
    },
    "language_info": {
      "name": "python"
    }
  },
  "cells": [
    {
      "cell_type": "markdown",
      "metadata": {
        "id": "view-in-github",
        "colab_type": "text"
      },
      "source": [
        "<a href=\"https://colab.research.google.com/github/spdr-lily/Descomplica-Data-Science/blob/main/linguagem_natural_com_nltk.ipynb\" target=\"_parent\"><img src=\"https://colab.research.google.com/assets/colab-badge.svg\" alt=\"Open In Colab\"/></a>"
      ]
    },
    {
      "cell_type": "code",
      "execution_count": 19,
      "metadata": {
        "id": "i_h4-xxwzMEf"
      },
      "outputs": [],
      "source": [
        "import nltk\n",
        "import random\n",
        "import numpy as np\n",
        "from nltk.corpus import movie_reviews\n",
        "from nltk.classify import NaiveBayesClassifier\n",
        "from nltk.classify.util import accuracy\n",
        "from nltk.tokenize import word_tokenize\n",
        "from nltk.corpus import stopwords\n",
        "from nltk.probability import FreqDist\n",
        "from nltk import pos_tag\n",
        "from sklearn.metrics import confusion_matrix, classification_report"
      ]
    },
    {
      "cell_type": "code",
      "source": [
        "# Baixar os conjuntos de dados necessários do NLTK\n",
        "nltk.download('movie_reviews')\n",
        "nltk.download('punkt')\n",
        "nltk.download('punkt_tab')\n",
        "nltk.download('stopwords')\n",
        "nltk.download('averaged_perceptron_tagger_eng')"
      ],
      "metadata": {
        "colab": {
          "base_uri": "https://localhost:8080/"
        },
        "id": "nImCQflLzQxV",
        "outputId": "d415b72f-befb-45af-be6a-164cb117a13f"
      },
      "execution_count": 24,
      "outputs": [
        {
          "output_type": "stream",
          "name": "stderr",
          "text": [
            "[nltk_data] Downloading package movie_reviews to /root/nltk_data...\n",
            "[nltk_data]   Package movie_reviews is already up-to-date!\n",
            "[nltk_data] Downloading package punkt to /root/nltk_data...\n",
            "[nltk_data]   Package punkt is already up-to-date!\n",
            "[nltk_data] Downloading package punkt_tab to /root/nltk_data...\n",
            "[nltk_data]   Package punkt_tab is already up-to-date!\n",
            "[nltk_data] Downloading package stopwords to /root/nltk_data...\n",
            "[nltk_data]   Package stopwords is already up-to-date!\n",
            "[nltk_data] Downloading package averaged_perceptron_tagger_eng to\n",
            "[nltk_data]     /root/nltk_data...\n",
            "[nltk_data]   Unzipping taggers/averaged_perceptron_tagger_eng.zip.\n"
          ]
        },
        {
          "output_type": "execute_result",
          "data": {
            "text/plain": [
              "True"
            ]
          },
          "metadata": {},
          "execution_count": 24
        }
      ]
    },
    {
      "cell_type": "code",
      "source": [
        "# Carregar e processar um texto\n",
        "def process_text(text):\n",
        "    tokens = word_tokenize(text)\n",
        "    pos_tags = pos_tag(tokens)\n",
        "    freq_dist = FreqDist(tokens)\n",
        "    return tokens, pos_tags, freq_dist"
      ],
      "metadata": {
        "id": "Uwcqb4xezTcS"
      },
      "execution_count": 25,
      "outputs": []
    },
    {
      "cell_type": "code",
      "source": [
        "# Exemplo de uso\n",
        "sample_text = \"The movie was fantastic! The performances were breathtaking.\"\n",
        "tokens, pos_tags, freq_dist = process_text(sample_text)"
      ],
      "metadata": {
        "id": "YyD6TmhHzVsa"
      },
      "execution_count": 26,
      "outputs": []
    },
    {
      "cell_type": "code",
      "source": [
        "print(\"Tokens:\", tokens)\n",
        "print(\"Partes do discurso:\", pos_tags)\n",
        "print(\"Frequência de palavras:\", freq_dist.most_common(10))"
      ],
      "metadata": {
        "colab": {
          "base_uri": "https://localhost:8080/"
        },
        "id": "A5yChfihzXjy",
        "outputId": "53737711-ecbd-42da-b106-9c4e13658866"
      },
      "execution_count": 27,
      "outputs": [
        {
          "output_type": "stream",
          "name": "stdout",
          "text": [
            "Tokens: ['The', 'movie', 'was', 'fantastic', '!', 'The', 'performances', 'were', 'breathtaking', '.']\n",
            "Partes do discurso: [('The', 'DT'), ('movie', 'NN'), ('was', 'VBD'), ('fantastic', 'JJ'), ('!', '.'), ('The', 'DT'), ('performances', 'NNS'), ('were', 'VBD'), ('breathtaking', 'VBG'), ('.', '.')]\n",
            "Frequência de palavras: [('The', 2), ('movie', 1), ('was', 1), ('fantastic', 1), ('!', 1), ('performances', 1), ('were', 1), ('breathtaking', 1), ('.', 1)]\n"
          ]
        }
      ]
    },
    {
      "cell_type": "code",
      "source": [
        "# Carregar os dados de exemplo do corpus de críticas de filmes\n",
        "documents = [(list(movie_reviews.words(fileid)), category)\n",
        "             for category in movie_reviews.categories()\n",
        "             for fileid in movie_reviews.fileids(category)]"
      ],
      "metadata": {
        "id": "3f_QntVHzapG"
      },
      "execution_count": 29,
      "outputs": []
    },
    {
      "cell_type": "code",
      "source": [
        "# Embaralhar os dados para evitar viés\n",
        "random.shuffle(documents)"
      ],
      "metadata": {
        "id": "IzRnyEbYzcgn"
      },
      "execution_count": 30,
      "outputs": []
    },
    {
      "cell_type": "code",
      "source": [
        "# Função para extrair características usando bag-of-words\n",
        "def extract_features(words):\n",
        "    stop_words = set(stopwords.words('english'))\n",
        "    words = [word.lower() for word in words if word.isalpha() and word not in stop_words]\n",
        "    return {word: True for word in words}"
      ],
      "metadata": {
        "id": "cUIWMR-yzdzs"
      },
      "execution_count": 31,
      "outputs": []
    },
    {
      "cell_type": "code",
      "source": [
        "# Criar o conjunto de características\n",
        "feature_sets = [(extract_features(words), category) for words, category in documents]"
      ],
      "metadata": {
        "id": "GaGupm8hzfSK"
      },
      "execution_count": 32,
      "outputs": []
    },
    {
      "cell_type": "code",
      "source": [
        "# Dividir os dados em treinamento (80%) e teste (20%)\n",
        "train_size = int(len(feature_sets) * 0.8)\n",
        "train_set, test_set = feature_sets[:train_size], feature_sets[train_size:]"
      ],
      "metadata": {
        "id": "O9P_r8LXzhek"
      },
      "execution_count": 33,
      "outputs": []
    },
    {
      "cell_type": "code",
      "source": [
        "# Treinar o modelo usando Naive Bayes\n",
        "classifier = NaiveBayesClassifier.train(train_set)"
      ],
      "metadata": {
        "id": "1VgNw3URzjJZ"
      },
      "execution_count": 34,
      "outputs": []
    },
    {
      "cell_type": "code",
      "source": [
        "# Avaliar o desempenho do modelo\n",
        "print(f\"Acurácia: {accuracy(classifier, test_set) * 100:.2f}%\")"
      ],
      "metadata": {
        "colab": {
          "base_uri": "https://localhost:8080/"
        },
        "id": "4kCdIAuEzkdS",
        "outputId": "c6eab79e-7b2e-437e-f6a1-99de020bcd0e"
      },
      "execution_count": 35,
      "outputs": [
        {
          "output_type": "stream",
          "name": "stdout",
          "text": [
            "Acurácia: 70.75%\n"
          ]
        }
      ]
    },
    {
      "cell_type": "code",
      "source": [
        "# Exibir as palavras mais informativas\n",
        "classifier.show_most_informative_features(10)"
      ],
      "metadata": {
        "colab": {
          "base_uri": "https://localhost:8080/"
        },
        "id": "SB7WRT9-3YKm",
        "outputId": "dd53665e-d4d0-46f5-81c1-db02ae13a587"
      },
      "execution_count": 36,
      "outputs": [
        {
          "output_type": "stream",
          "name": "stdout",
          "text": [
            "Most Informative Features\n",
            "               insulting = True              neg : pos    =     16.7 : 1.0\n",
            "                  turkey = True              neg : pos    =     10.8 : 1.0\n",
            "             outstanding = True              pos : neg    =      9.9 : 1.0\n",
            "               strongest = True              pos : neg    =      9.8 : 1.0\n",
            "               stupidity = True              neg : pos    =      9.7 : 1.0\n",
            "             magnificent = True              pos : neg    =      9.5 : 1.0\n",
            "               atrocious = True              neg : pos    =      9.5 : 1.0\n",
            "                headache = True              neg : pos    =      9.5 : 1.0\n",
            "               ludicrous = True              neg : pos    =      9.4 : 1.0\n",
            "              astounding = True              pos : neg    =      9.1 : 1.0\n"
          ]
        }
      ]
    },
    {
      "cell_type": "code",
      "source": [
        "# Testar com uma nova amostra de texto\n",
        "tokens = word_tokenize(sample_text)\n",
        "features = extract_features(tokens)\n",
        "predicted_label = classifier.classify(features)\n",
        "print(f\"Classificação do texto de teste: {predicted_label}\")"
      ],
      "metadata": {
        "colab": {
          "base_uri": "https://localhost:8080/"
        },
        "id": "tTFBLE3E3Zfv",
        "outputId": "53ac1fb2-4e8a-460c-ad3d-bfce210a6e09"
      },
      "execution_count": 37,
      "outputs": [
        {
          "output_type": "stream",
          "name": "stdout",
          "text": [
            "Classificação do texto de teste: pos\n"
          ]
        }
      ]
    },
    {
      "cell_type": "code",
      "source": [
        "# Avaliação detalhada do modelo\n",
        "y_true = [label for (_, label) in test_set]\n",
        "y_pred = [classifier.classify(features) for (features, _) in test_set]"
      ],
      "metadata": {
        "id": "iojSrfY03bHf"
      },
      "execution_count": 38,
      "outputs": []
    },
    {
      "cell_type": "code",
      "source": [
        "# Relatório de classificação\n",
        "print(\"\\nRelatório de Classificação:\")\n",
        "print(classification_report(y_true, y_pred))"
      ],
      "metadata": {
        "colab": {
          "base_uri": "https://localhost:8080/"
        },
        "id": "7zYkgR943cuY",
        "outputId": "add18a58-5645-419d-daef-d132d764a01e"
      },
      "execution_count": 39,
      "outputs": [
        {
          "output_type": "stream",
          "name": "stdout",
          "text": [
            "\n",
            "Relatório de Classificação:\n",
            "              precision    recall  f1-score   support\n",
            "\n",
            "         neg       0.94      0.42      0.58       194\n",
            "         pos       0.64      0.98      0.77       206\n",
            "\n",
            "    accuracy                           0.71       400\n",
            "   macro avg       0.79      0.70      0.68       400\n",
            "weighted avg       0.79      0.71      0.68       400\n",
            "\n"
          ]
        }
      ]
    },
    {
      "cell_type": "code",
      "source": [
        "# Matriz de Confusão\n",
        "conf_matrix = confusion_matrix(y_true, y_pred)\n",
        "print(\"\\nMatriz de Confusão:\")\n",
        "print(conf_matrix)"
      ],
      "metadata": {
        "colab": {
          "base_uri": "https://localhost:8080/"
        },
        "id": "h9nzbn_03el8",
        "outputId": "5a54c8c7-5325-4ed4-8d77-92c3c235da12"
      },
      "execution_count": 40,
      "outputs": [
        {
          "output_type": "stream",
          "name": "stdout",
          "text": [
            "\n",
            "Matriz de Confusão:\n",
            "[[ 82 112]\n",
            " [  5 201]]\n"
          ]
        }
      ]
    },
    {
      "cell_type": "code",
      "source": [],
      "metadata": {
        "id": "gueuBnx73ghO"
      },
      "execution_count": null,
      "outputs": []
    }
  ]
}
