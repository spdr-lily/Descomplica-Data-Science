{
  "nbformat": 4,
  "nbformat_minor": 0,
  "metadata": {
    "colab": {
      "provenance": [],
      "authorship_tag": "ABX9TyNI8Jj2XTURg2gpP3Yr/ciE",
      "include_colab_link": true
    },
    "kernelspec": {
      "name": "python3",
      "display_name": "Python 3"
    },
    "language_info": {
      "name": "python"
    }
  },
  "cells": [
    {
      "cell_type": "markdown",
      "metadata": {
        "id": "view-in-github",
        "colab_type": "text"
      },
      "source": [
        "<a href=\"https://colab.research.google.com/github/spdr-lily/Data-Science-Profile/blob/main/analise_de_sentimentos.ipynb\" target=\"_parent\"><img src=\"https://colab.research.google.com/assets/colab-badge.svg\" alt=\"Open In Colab\"/></a>"
      ]
    },
    {
      "cell_type": "markdown",
      "source": [
        "# Análise de sentimentos:\n",
        "Analisar comentários sobre um novo produto que foi lançado, para entender como os clientes estão reagindo ao produto e identificar áreas de melhoria."
      ],
      "metadata": {
        "id": "ycCllczrgV3d"
      }
    },
    {
      "cell_type": "code",
      "source": [
        "# analisando sentimentos com SpaCy\n",
        "import spacy\n",
        "from spacytextblob.spacytextblob import SpacyTextBlob"
      ],
      "metadata": {
        "id": "hVGUMwx8cN3k"
      },
      "execution_count": 48,
      "outputs": []
    },
    {
      "cell_type": "code",
      "source": [
        "# carregando modelo spacy\n",
        "nlp = spacy.load(\"en_core_web_sm\")"
      ],
      "metadata": {
        "id": "-qHMqLoidVCq"
      },
      "execution_count": 49,
      "outputs": []
    },
    {
      "cell_type": "code",
      "source": [
        "# adicionando a extenção textblob ao spacy\n",
        "nlp.add_pipe(\"spacytextblob\")"
      ],
      "metadata": {
        "colab": {
          "base_uri": "https://localhost:8080/"
        },
        "id": "vV5V16htdl2_",
        "outputId": "17d44fd2-8a78-4dad-ce09-db55b98ebc9c"
      },
      "execution_count": 50,
      "outputs": [
        {
          "output_type": "execute_result",
          "data": {
            "text/plain": [
              "<spacytextblob.spacytextblob.SpacyTextBlob at 0x7f8660524710>"
            ]
          },
          "metadata": {},
          "execution_count": 50
        }
      ]
    },
    {
      "cell_type": "code",
      "source": [
        "# exemplos de texto para análise\n",
        "textos = [\n",
        "    \"The costumer service was excellent, I am very satisfied.\",\n",
        "    \"The product did not meet my expectations, very disappointed.\",\n",
        "    \"Shipping was fast but the product quality is terrible.\"\n",
        "]"
      ],
      "metadata": {
        "id": "jd8nQ-awdswU"
      },
      "execution_count": 51,
      "outputs": []
    },
    {
      "cell_type": "code",
      "source": [
        "# analisando sentimentos com spacy e textblob\n",
        "for texto in textos:\n",
        "    doc = nlp(texto)\n",
        "    sentimento = doc._.blob.polarity\n",
        "    print(f\"Texto: {texto}\")\n",
        "    print(f\"Sentimento: Polaridade = {sentimento}\")\n",
        "    print(\"-\" * 50)"
      ],
      "metadata": {
        "colab": {
          "base_uri": "https://localhost:8080/"
        },
        "id": "2J6oPjyHeFf1",
        "outputId": "7818a0ac-0607-4f07-f324-fefbc5d392a1"
      },
      "execution_count": 55,
      "outputs": [
        {
          "output_type": "stream",
          "name": "stdout",
          "text": [
            "Texto: The costumer service was excellent, I am very satisfied.\n",
            "Sentimento: Polaridade = 0.825\n",
            "--------------------------------------------------\n",
            "Texto: The product did not meet my expectations, very disappointed.\n",
            "Sentimento: Polaridade = -0.9750000000000001\n",
            "--------------------------------------------------\n",
            "Texto: Shipping was fast but the product quality is terrible.\n",
            "Sentimento: Polaridade = -0.4\n",
            "--------------------------------------------------\n"
          ]
        }
      ]
    },
    {
      "cell_type": "code",
      "source": [],
      "metadata": {
        "id": "erzHBok0h4II"
      },
      "execution_count": null,
      "outputs": []
    }
  ]
}
