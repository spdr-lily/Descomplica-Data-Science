{
  "nbformat": 4,
  "nbformat_minor": 0,
  "metadata": {
    "colab": {
      "provenance": [],
      "authorship_tag": "ABX9TyP/NYVcZekuB4WosebgDf2w",
      "include_colab_link": true
    },
    "kernelspec": {
      "name": "python3",
      "display_name": "Python 3"
    },
    "language_info": {
      "name": "python"
    }
  },
  "cells": [
    {
      "cell_type": "markdown",
      "metadata": {
        "id": "view-in-github",
        "colab_type": "text"
      },
      "source": [
        "<a href=\"https://colab.research.google.com/github/spdr-lily/Descomplica-Data-Science/blob/main/p_e_r_operacoes_com_arrays.ipynb\" target=\"_parent\"><img src=\"https://colab.research.google.com/assets/colab-badge.svg\" alt=\"Open In Colab\"/></a>"
      ]
    },
    {
      "cell_type": "markdown",
      "source": [
        "# Pensar e Responder aula 02, operações com arrays"
      ],
      "metadata": {
        "id": "DRgsRTiYQlgb"
      }
    },
    {
      "cell_type": "code",
      "execution_count": null,
      "metadata": {
        "id": "GuvV2MgVQkm_"
      },
      "outputs": [],
      "source": [
        "# 1. importação da biblioteca\n",
        "import numpy as np"
      ]
    },
    {
      "cell_type": "code",
      "source": [
        "#  2. array unidimensional chamado arr com os números de 1 a 10\n",
        "arr = np.array([1, 2, 3, 4, 5, 6, 7, 8, 9, 10])"
      ],
      "metadata": {
        "id": "bb_lyqgfQ17m"
      },
      "execution_count": null,
      "outputs": []
    },
    {
      "cell_type": "code",
      "source": [
        "# 3. Criar uma matriz com números de 1 a 12\n",
        "matriz = np.array([\n",
        "    [1, 2, 3, 4],\n",
        "    [5, 6, 7, 8],\n",
        "    [9, 10, 11, 12]\n",
        "])"
      ],
      "metadata": {
        "id": "xzV0ve7_2Q8P"
      },
      "execution_count": null,
      "outputs": []
    },
    {
      "cell_type": "code",
      "source": [
        "# 4. imprimindo o array\n",
        "print(arr)"
      ],
      "metadata": {
        "colab": {
          "base_uri": "https://localhost:8080/"
        },
        "id": "fqpVGR37XB_w",
        "outputId": "e0163a28-e320-404c-8679-96d8574457c9"
      },
      "execution_count": null,
      "outputs": [
        {
          "output_type": "stream",
          "name": "stdout",
          "text": [
            "[ 1  2  3  4  5  6  7  8  9 10]\n"
          ]
        }
      ]
    },
    {
      "cell_type": "code",
      "source": [
        "# 4.1 imprimindo a matriz\n",
        "print(matriz)"
      ],
      "metadata": {
        "colab": {
          "base_uri": "https://localhost:8080/"
        },
        "id": "Wqn0QKHPXrd4",
        "outputId": "38a80ed9-ec62-47b6-ff7f-69b22350bd87"
      },
      "execution_count": null,
      "outputs": [
        {
          "output_type": "stream",
          "name": "stdout",
          "text": [
            "[[ 1  2  3  4]\n",
            " [ 5  6  7  8]\n",
            " [ 9 10 11 12]]\n"
          ]
        }
      ]
    },
    {
      "cell_type": "code",
      "source": [
        "# 5. acessando o elemento \"5\" do array\n",
        "elemento_5 = arr[4]\n",
        "\n",
        "# imprimindo o elemento 5\n",
        "print(elemento_5)"
      ],
      "metadata": {
        "colab": {
          "base_uri": "https://localhost:8080/"
        },
        "id": "2qwEdQf3XVzM",
        "outputId": "468872c3-fc67-452b-c3b4-096967daa1b3"
      },
      "execution_count": null,
      "outputs": [
        {
          "output_type": "stream",
          "name": "stdout",
          "text": [
            "5\n"
          ]
        }
      ]
    },
    {
      "cell_type": "code",
      "source": [
        "# 5.1 acessando o elemento 8 da matriz, na segunda linha e quarta coluna (lembrando que os índices começam em 0)\n",
        "elemento_8 = matriz[1, 3]\n",
        "\n",
        "# imprimindo o elemento 8\n",
        "print(elemento_8)"
      ],
      "metadata": {
        "colab": {
          "base_uri": "https://localhost:8080/"
        },
        "id": "3m9L07t5Xxc2",
        "outputId": "6a81b02e-de49-4d24-febc-e03773c3e245"
      },
      "execution_count": null,
      "outputs": [
        {
          "output_type": "stream",
          "name": "stdout",
          "text": [
            "8\n"
          ]
        }
      ]
    },
    {
      "cell_type": "code",
      "source": [
        "# 6. novo array chamado arr_slice que contenha os elementos do array arr no intervalo de índices de 2 a 6\n",
        "arr_slice = arr[2:6]\n",
        "\n",
        "# imprimindo o intervalo do array\n",
        "print(arr_slice)"
      ],
      "metadata": {
        "colab": {
          "base_uri": "https://localhost:8080/"
        },
        "id": "oXcrxsTrS0dq",
        "outputId": "f17cf8c2-05ab-47f7-8201-5cb162b8327f"
      },
      "execution_count": null,
      "outputs": [
        {
          "output_type": "stream",
          "name": "stdout",
          "text": [
            "[3 4 5 6]\n"
          ]
        }
      ]
    },
    {
      "cell_type": "code",
      "source": [
        "# 7. operação matemática com array, multiplicação de todos os elementos do array por 2\n",
        "arr_resultado = arr * 2\n",
        "\n",
        "# imprimindo resultado da multiplicação\n",
        "print(arr_resultado)"
      ],
      "metadata": {
        "colab": {
          "base_uri": "https://localhost:8080/"
        },
        "id": "M-fNPP-tUi-9",
        "outputId": "7517c836-25e7-4e14-cc7c-f7da0c975113"
      },
      "execution_count": null,
      "outputs": [
        {
          "output_type": "stream",
          "name": "stdout",
          "text": [
            "[ 2  4  6  8 10 12 14 16 18 20]\n"
          ]
        }
      ]
    },
    {
      "cell_type": "code",
      "source": [
        "# 8. soma de todos os elementos da matriz\n",
        "soma_matriz = matriz.sum()\n",
        "\n",
        "# imprimindo o resultado da soma\n",
        "print(soma_matriz)"
      ],
      "metadata": {
        "colab": {
          "base_uri": "https://localhost:8080/"
        },
        "id": "cPvrDsaGVAO8",
        "outputId": "bf22be5a-59c3-4448-d4ff-a3d856f9cfa1"
      },
      "execution_count": null,
      "outputs": [
        {
          "output_type": "stream",
          "name": "stdout",
          "text": [
            "78\n"
          ]
        }
      ]
    },
    {
      "cell_type": "code",
      "source": [
        "# 9. calculo da média dos elementos do array\n",
        "media_arr = arr.mean()\n",
        "\n",
        "# imprimindo resultado da média\n",
        "print(media_arr)"
      ],
      "metadata": {
        "colab": {
          "base_uri": "https://localhost:8080/"
        },
        "id": "S3I96XbYVbOC",
        "outputId": "dca217ba-07d6-4ca7-a547-5f6f325edf21"
      },
      "execution_count": null,
      "outputs": [
        {
          "output_type": "stream",
          "name": "stdout",
          "text": [
            "5.5\n"
          ]
        }
      ]
    },
    {
      "cell_type": "code",
      "source": [
        "# 10. criando a matriz transposta\n",
        "matriz_transposta = matriz.T\n",
        "\n",
        "# imprimindo a matriz transposta\n",
        "print(matriz_transposta)"
      ],
      "metadata": {
        "colab": {
          "base_uri": "https://localhost:8080/"
        },
        "id": "GG8-S055V7l6",
        "outputId": "7a46a4b5-04dd-484e-9dbd-382e16f5bdeb"
      },
      "execution_count": null,
      "outputs": [
        {
          "output_type": "stream",
          "name": "stdout",
          "text": [
            "[[ 1  5  9]\n",
            " [ 2  6 10]\n",
            " [ 3  7 11]\n",
            " [ 4  8 12]]\n"
          ]
        }
      ]
    },
    {
      "cell_type": "code",
      "source": [
        "# 11. concatenando os arrays\n",
        "arr_concatenado = np.concatenate([arr, arr_slice])\n",
        "\n",
        "# imprimindo o array concatenado\n",
        "print(arr_concatenado)"
      ],
      "metadata": {
        "colab": {
          "base_uri": "https://localhost:8080/"
        },
        "id": "Rvy79dQGWSJC",
        "outputId": "26f8a976-d3da-46a7-e076-259e22b3fb90"
      },
      "execution_count": null,
      "outputs": [
        {
          "output_type": "stream",
          "name": "stdout",
          "text": [
            "[ 1  2  3  4  5  6  7  8  9 10  3  4  5  6]\n"
          ]
        }
      ]
    },
    {
      "cell_type": "code",
      "source": [
        "# 12. impressão dos dados obtidos:\n",
        "print(\"\\nResultados:\")\n",
        "print(\"Array com elementos multiplicados por 2:\\n\", arr_resultado)\n",
        "print(\"Soma dos elementos da matriz:\\n\", soma_matriz)\n",
        "print(\"Média dos elementos do array:\\n\", media_arr)\n",
        "print(\"Matriz transposta:\\n\", matriz_transposta)\n",
        "print(\"Array concatenado:\\n\", arr_concatenado)"
      ],
      "metadata": {
        "colab": {
          "base_uri": "https://localhost:8080/"
        },
        "id": "bPyxAa3dWyVJ",
        "outputId": "a72393c4-921f-4a69-9dc4-424fd43bd498"
      },
      "execution_count": null,
      "outputs": [
        {
          "output_type": "stream",
          "name": "stdout",
          "text": [
            "\n",
            "Resultados:\n",
            "Array com elementos multiplicados por 2:\n",
            " [ 2  4  6  8 10 12 14 16 18 20]\n",
            "Soma dos elementos da matriz:\n",
            " 78\n",
            "Média dos elementos do array:\n",
            " 5.5\n",
            "Matriz transposta:\n",
            " [[ 1  5  9]\n",
            " [ 2  6 10]\n",
            " [ 3  7 11]\n",
            " [ 4  8 12]]\n",
            "Array concatenado:\n",
            " [ 1  2  3  4  5  6  7  8  9 10  3  4  5  6]\n"
          ]
        }
      ]
    },
    {
      "cell_type": "code",
      "source": [],
      "metadata": {
        "id": "GnP1qvjAYP7i"
      },
      "execution_count": null,
      "outputs": []
    }
  ]
}
