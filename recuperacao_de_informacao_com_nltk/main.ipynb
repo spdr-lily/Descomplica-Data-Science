{
  "nbformat": 4,
  "nbformat_minor": 0,
  "metadata": {
    "colab": {
      "provenance": [],
      "authorship_tag": "ABX9TyMGlbtzuIL443U4edVE71rv",
      "include_colab_link": true
    },
    "kernelspec": {
      "name": "python3",
      "display_name": "Python 3"
    },
    "language_info": {
      "name": "python"
    }
  },
  "cells": [
    {
      "cell_type": "markdown",
      "metadata": {
        "id": "view-in-github",
        "colab_type": "text"
      },
      "source": [
        "<a href=\"https://colab.research.google.com/github/spdr-lily/Descomplica-Data-Science/blob/main/recuperacao_de_informacao.ipynb\" target=\"_parent\"><img src=\"https://colab.research.google.com/assets/colab-badge.svg\" alt=\"Open In Colab\"/></a>"
      ]
    },
    {
      "cell_type": "code",
      "execution_count": 1,
      "metadata": {
        "id": "R9D3k1aYehty"
      },
      "outputs": [],
      "source": [
        "# importação das bibliotecas\n",
        "import nltk\n",
        "import numpy as np\n",
        "from nltk.tokenize import word_tokenize\n",
        "from nltk.corpus import stopwords\n",
        "from nltk.metrics.distance import edit_distance\n",
        "from sklearn.feature_extraction.text import CountVectorizer"
      ]
    },
    {
      "cell_type": "code",
      "source": [
        "# Baixar pacotes necessários do NLTK\n",
        "nltk.download('punkt_tab')\n",
        "nltk.download('stopwords')"
      ],
      "metadata": {
        "colab": {
          "base_uri": "https://localhost:8080/"
        },
        "id": "0PeZPDJgej3o",
        "outputId": "a01477ff-3d64-441c-b35a-eb99f32db42c"
      },
      "execution_count": 11,
      "outputs": [
        {
          "output_type": "stream",
          "name": "stderr",
          "text": [
            "[nltk_data] Downloading package punkt_tab to /root/nltk_data...\n",
            "[nltk_data]   Unzipping tokenizers/punkt_tab.zip.\n",
            "[nltk_data] Downloading package stopwords to /root/nltk_data...\n",
            "[nltk_data]   Package stopwords is already up-to-date!\n"
          ]
        },
        {
          "output_type": "execute_result",
          "data": {
            "text/plain": [
              "True"
            ]
          },
          "metadata": {},
          "execution_count": 11
        }
      ]
    },
    {
      "cell_type": "code",
      "source": [
        "# Texto e Query\n",
        "texto = \"\"\"A crescente quantidade de dados textuais gerada diariamente tem impulsionado a importância do processamento de linguagem natural (PLN) e das técnicas de recuperação de informação (RI). Com o objetivo de extrair informações relevantes de grandes volumes de dados, a RI utiliza métodos avançados para encontrar e classificar documentos que atendam a consultas específicas dos usuários. A distância de Levenshtein e o modelo bag-of-words são duas abordagens distintas, mas eficazes, para medir a similaridade entre textos e consultas. A distância de Levenshtein calcula o número mínimo de operações necessárias para transformar uma string em outra, enquanto o modelo bag-of-words representa os textos como vetores de frequência de palavras, permitindo a comparação baseada na similaridade vetorial. Essas técnicas são fundamentais para melhorar a precisão dos sistemas de busca e a relevância dos resultados apresentados aos usuários.\"\"\"\n",
        "\n",
        "query = \"importância do processamento de linguagem natural\""
      ],
      "metadata": {
        "id": "s_2LW4aWep1e"
      },
      "execution_count": 12,
      "outputs": []
    },
    {
      "cell_type": "code",
      "source": [
        "# Função para tokenizar e limpar o texto\n",
        "def preprocessamento(texto):\n",
        "    stop_words = set(stopwords.words('portuguese'))\n",
        "    tokens = word_tokenize(texto.lower())  # Tokenização e conversão para minúsculas\n",
        "    tokens = [t for t in tokens if t.isalnum() and t not in stop_words]  # Remover stopwords e caracteres especiais\n",
        "    return tokens"
      ],
      "metadata": {
        "id": "C0TO2wmLesE9"
      },
      "execution_count": 13,
      "outputs": []
    },
    {
      "cell_type": "code",
      "source": [
        "# Implementação da recuperação de informação usando distância de Levenshtein\n",
        "def ri_levenshtein(texto, query):\n",
        "    tokens_texto = preprocessamento(texto)\n",
        "    tokens_query = preprocessamento(query)\n",
        "    distancia_total = sum(edit_distance(word_q, word_t) for word_q in tokens_query for word_t in tokens_texto)\n",
        "    print(f\"Distância de Levenshtein entre a consulta e o texto: {distancia_total}\")"
      ],
      "metadata": {
        "id": "2tY3W1RNevPH"
      },
      "execution_count": 16,
      "outputs": []
    },
    {
      "cell_type": "code",
      "source": [
        "# Implementação da recuperação de informação usando Bag-of-Words\n",
        "def ri_bag_of_words(texto, query):\n",
        "    vectorizer = CountVectorizer()\n",
        "    documentos = [texto, query]\n",
        "    matriz = vectorizer.fit_transform(documentos)\n",
        "    similaridade = np.dot(matriz.toarray()[0], matriz.toarray()[1])\n",
        "    print(f\"Similaridade Bag-of-Words entre a consulta e o texto: {similaridade}\")"
      ],
      "metadata": {
        "id": "Wuw0054KexQI"
      },
      "execution_count": 18,
      "outputs": []
    },
    {
      "cell_type": "code",
      "source": [
        "# Executar as funções\n",
        "ri_levenshtein(texto, query)\n",
        "ri_bag_of_words(texto, query)"
      ],
      "metadata": {
        "colab": {
          "base_uri": "https://localhost:8080/"
        },
        "id": "vrJSmoXhe0fx",
        "outputId": "ff90e873-e8cf-4225-9e97-61cca0c1270a"
      },
      "execution_count": 19,
      "outputs": [
        {
          "output_type": "stream",
          "name": "stdout",
          "text": [
            "Distância de Levenshtein entre a consulta e o texto: 2758\n",
            "Similaridade Bag-of-Words entre a consulta e o texto: 18\n"
          ]
        }
      ]
    },
    {
      "cell_type": "code",
      "source": [],
      "metadata": {
        "id": "LkfoTbuVe2Dk"
      },
      "execution_count": null,
      "outputs": []
    }
  ]
}
